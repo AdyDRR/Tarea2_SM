{
 "cells": [
  {
   "cell_type": "markdown",
   "metadata": {},
   "source": [
    "# ¿Por qué Phyton? parte #2"
   ]
  },
  {
   "cell_type": "markdown",
   "metadata": {},
   "source": [
    "----"
   ]
  },
  {
   "cell_type": "markdown",
   "metadata": {},
   "source": [
    "# Resúmen 3:\n",
    "\n",
    "###  Why Python is so popular with developers: 3 reasons the language has exploded\n",
    "\n",
    "Python está comenzando a ser *el lenguaje de programación más empleado* y se encuentra en su punto más alto en general por tres razones; Su facilidad en el aprendizaje, la reciente explosión de inteligencia artificial en el aspecto empresarial y su amplia comunidad de desarrolladores. \n",
    "\n",
    "**1. Facilidad de aprendizaje:**\n",
    "\n",
    "Python está rankeado como uno de los lenguajes de programación más *sencillos de aprender*, esto debido a su sintaxis sencilla y su confiabilidad alta. Como menciona Karen Panetta:\n",
    ">\n",
    "> *Python es lo más cercano a un lenguaje de gratificación instantánea, ya que con poco código se puede realizar mucho incluyendo a los programadores novatos.*\n",
    ">\n",
    "\n",
    "Así mismo tener que declarar variables o argumentos queda de lado al utilizar python lo que simplifica al mínimo su uso y lo hace de los más *flexibles* comparándose con otros lenguajes.\n",
    "\n",
    "**2. Explosión de la ciencia de datos, IA y machine learning:**\n",
    "\n",
    "Python puede *ayudar y simplificar* bastante la manera de trabajo para los desarrolladores de IA y machine learning. Así como python tiene las herramientas necesarias para los aspirantes a realizar ciencia de datos (una rama que actualmente en el ámbito empresarial está teniendo un nuevo auge). En general python puede ser utilizado para casi cualquier propósito incluyendo desarrollo de páginas web y scripting de sistemas.\n",
    "\n",
    "**3. Una amplia comunidad de desarrolladores:**\n",
    "\n",
    "Al utilizarse con tanta diversidad como videojuegos, productividad o IA, ha traído como consecuencia tener una **amplia comunidad** en donde pueden solucionarse problemas en conjuno con ayuda de su gran cantidad de librerias de fuente abierta disponibles. Como menciona Silge:\n",
    ">\n",
    ">*Python tiene una comunidad amplia, saludable y amistosa, incluyendo por ejemplo comunidades representadoras de la tecnología* \n",
    ">\n",
    "\n",
    "También al tener una comunidad amplia se vuelve *sencillo solucionar los problemas* de cada usuario, así como poder atacar eficientemente las flaquezas del lenguaje, como su lentitud comparada con otros lenguajes. Lo que convierte la solución de un problema a simplemente publicarla para que la comunidad pueda ayudar o encontrar un problema parecido al codificar.\n",
    "\n",
    "### Fuente: [Tech republic](https://www.techrepublic.com/article/why-python-is-so-popular-with-developers-3-reasons-the-language-has-exploded/)"
   ]
  },
  {
   "cell_type": "markdown",
   "metadata": {},
   "source": [
    "# Resúmen 4:\n",
    "\n",
    "## 2.- Why Python Training Is Totally Worth It\n",
    "\n",
    "Actualmente existen unavariedad invensa de lenguajes de programación, puede resultar confuso saber cual vale la pena y cual no, el  *sólido y fléxible* Python se mantiene a la cabeza por decadas y este es el porqué.\n",
    "\n",
    "    a) Lo básico de Phyton\n",
    "\n",
    "Comenzar a utilizar Python es muy simple, así como también descargarlo con un simple instalador. Algo positivo es su amplia gama de librerias y su simplicidad al programar sin necesidad de una sintaxis compleja.\n",
    "\n",
    "    b) Usos de Phyton\n",
    "\n",
    "Recientemente las aplicaciones de python son de muy amplia gama destacándose el desarrollo web y el machine learning (el reconocimiento de patrones que realiza un usuario, como por ejemplo *Amazon*). \n",
    "\n",
    "    c) Una mano amiga\n",
    "\n",
    "Aunque python resulte **sencillo** de comprender, el poderlo entrenar sería lo óptimo ya que al ser un lenguaje \"sencillo\", la complejidad que puede obtener es considerable por lo que aunque los objetivos personales no sean tan elaborados es deseable optimizar lo máximo posible al utilizarlo. Es posible encontrar entrenamientos en línea muy prácticos y no intimidantes para poder desarrollar proyectos en situaciones de vida real.\n",
    "\n",
    "### Fuente: [SPOTLIGHT](http://anewdomain.net/spotlight-should-you-invest-in-python-training/)"
   ]
  }
 ],
 "metadata": {
  "kernelspec": {
   "display_name": "Python 3",
   "language": "python",
   "name": "python3"
  },
  "language_info": {
   "codemirror_mode": {
    "name": "ipython",
    "version": 3
   },
   "file_extension": ".py",
   "mimetype": "text/x-python",
   "name": "python",
   "nbconvert_exporter": "python",
   "pygments_lexer": "ipython3",
   "version": "3.7.4"
  }
 },
 "nbformat": 4,
 "nbformat_minor": 2
}
